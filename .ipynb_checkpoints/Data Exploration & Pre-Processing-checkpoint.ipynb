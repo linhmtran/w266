{
 "cells": [
  {
   "cell_type": "code",
   "execution_count": 3,
   "metadata": {
    "collapsed": false
   },
   "outputs": [],
   "source": [
    "import pandas as pd\n",
    "import numpy as np\n",
    "import matplotlib.pyplot as plt\n",
    "import re\n",
    "import nltk\n",
    "from w266_common import utils, vocabulary"
   ]
  },
  {
   "cell_type": "code",
   "execution_count": 4,
   "metadata": {
    "collapsed": false
   },
   "outputs": [
    {
     "data": {
      "text/html": [
       "<div>\n",
       "<style scoped>\n",
       "    .dataframe tbody tr th:only-of-type {\n",
       "        vertical-align: middle;\n",
       "    }\n",
       "\n",
       "    .dataframe tbody tr th {\n",
       "        vertical-align: top;\n",
       "    }\n",
       "\n",
       "    .dataframe thead th {\n",
       "        text-align: right;\n",
       "    }\n",
       "</style>\n",
       "<table border=\"1\" class=\"dataframe\">\n",
       "  <thead>\n",
       "    <tr style=\"text-align: right;\">\n",
       "      <th></th>\n",
       "      <th>type</th>\n",
       "      <th>posts</th>\n",
       "    </tr>\n",
       "  </thead>\n",
       "  <tbody>\n",
       "    <tr>\n",
       "      <th>0</th>\n",
       "      <td>INFJ</td>\n",
       "      <td>'http://www.youtube.com/watch?v=qsXHcwe3krw|||...</td>\n",
       "    </tr>\n",
       "    <tr>\n",
       "      <th>1</th>\n",
       "      <td>ENTP</td>\n",
       "      <td>'I'm finding the lack of me in these posts ver...</td>\n",
       "    </tr>\n",
       "    <tr>\n",
       "      <th>2</th>\n",
       "      <td>INTP</td>\n",
       "      <td>'Good one  _____   https://www.youtube.com/wat...</td>\n",
       "    </tr>\n",
       "    <tr>\n",
       "      <th>3</th>\n",
       "      <td>INTJ</td>\n",
       "      <td>'Dear INTP,   I enjoyed our conversation the o...</td>\n",
       "    </tr>\n",
       "    <tr>\n",
       "      <th>4</th>\n",
       "      <td>ENTJ</td>\n",
       "      <td>'You're fired.|||That's another silly misconce...</td>\n",
       "    </tr>\n",
       "  </tbody>\n",
       "</table>\n",
       "</div>"
      ],
      "text/plain": [
       "   type                                              posts\n",
       "0  INFJ  'http://www.youtube.com/watch?v=qsXHcwe3krw|||...\n",
       "1  ENTP  'I'm finding the lack of me in these posts ver...\n",
       "2  INTP  'Good one  _____   https://www.youtube.com/wat...\n",
       "3  INTJ  'Dear INTP,   I enjoyed our conversation the o...\n",
       "4  ENTJ  'You're fired.|||That's another silly misconce..."
      ]
     },
     "execution_count": 4,
     "metadata": {},
     "output_type": "execute_result"
    }
   ],
   "source": [
    "df = pd.read_csv('./mbti_1.csv')\n",
    "df.head()"
   ]
  },
  {
   "cell_type": "code",
   "execution_count": 5,
   "metadata": {
    "collapsed": false
   },
   "outputs": [
    {
     "data": {
      "text/html": [
       "<div>\n",
       "<style scoped>\n",
       "    .dataframe tbody tr th:only-of-type {\n",
       "        vertical-align: middle;\n",
       "    }\n",
       "\n",
       "    .dataframe tbody tr th {\n",
       "        vertical-align: top;\n",
       "    }\n",
       "\n",
       "    .dataframe thead th {\n",
       "        text-align: right;\n",
       "    }\n",
       "</style>\n",
       "<table border=\"1\" class=\"dataframe\">\n",
       "  <thead>\n",
       "    <tr style=\"text-align: right;\">\n",
       "      <th></th>\n",
       "      <th>type</th>\n",
       "      <th>posts</th>\n",
       "      <th>words_per_comment</th>\n",
       "    </tr>\n",
       "  </thead>\n",
       "  <tbody>\n",
       "    <tr>\n",
       "      <th>2469</th>\n",
       "      <td>ENFP</td>\n",
       "      <td>'So my love language is words of affirmation. ...</td>\n",
       "      <td>37.62</td>\n",
       "    </tr>\n",
       "    <tr>\n",
       "      <th>1315</th>\n",
       "      <td>INTJ</td>\n",
       "      <td>'Thank you! I forgot to reply on this. I talk ...</td>\n",
       "      <td>37.22</td>\n",
       "    </tr>\n",
       "    <tr>\n",
       "      <th>8005</th>\n",
       "      <td>INFP</td>\n",
       "      <td>'I really like the way you put that. It makes ...</td>\n",
       "      <td>36.98</td>\n",
       "    </tr>\n",
       "    <tr>\n",
       "      <th>5221</th>\n",
       "      <td>INFP</td>\n",
       "      <td>'I actually practically live on youtube and ag...</td>\n",
       "      <td>36.94</td>\n",
       "    </tr>\n",
       "    <tr>\n",
       "      <th>3962</th>\n",
       "      <td>ESTJ</td>\n",
       "      <td>'Ya I've come to learn that my best friend is ...</td>\n",
       "      <td>36.80</td>\n",
       "    </tr>\n",
       "  </tbody>\n",
       "</table>\n",
       "</div>"
      ],
      "text/plain": [
       "      type                                              posts  \\\n",
       "2469  ENFP  'So my love language is words of affirmation. ...   \n",
       "1315  INTJ  'Thank you! I forgot to reply on this. I talk ...   \n",
       "8005  INFP  'I really like the way you put that. It makes ...   \n",
       "5221  INFP  'I actually practically live on youtube and ag...   \n",
       "3962  ESTJ  'Ya I've come to learn that my best friend is ...   \n",
       "\n",
       "      words_per_comment  \n",
       "2469              37.62  \n",
       "1315              37.22  \n",
       "8005              36.98  \n",
       "5221              36.94  \n",
       "3962              36.80  "
      ]
     },
     "execution_count": 5,
     "metadata": {},
     "output_type": "execute_result"
    }
   ],
   "source": [
    "def var_row(row):\n",
    "    l = []\n",
    "    for i in row.split('|||'):\n",
    "        l.append(len(i.split()))\n",
    "    return np.var(l)\n",
    "\n",
    "df['words_per_comment'] = df['posts'].apply(lambda x: len(x.split())/50)\n",
    "df.sort_values(\"words_per_comment\", ascending=False, inplace=True)\n",
    "df.head()"
   ]
  },
  {
   "cell_type": "code",
   "execution_count": 6,
   "metadata": {
    "collapsed": false
   },
   "outputs": [
    {
     "data": {
      "image/png": "[encoded data removed]",
      "text/plain": [
       "<Figure size 432x288 with 1 Axes>"
      ]
     },
     "metadata": {},
     "output_type": "display_data"
    }
   ],
   "source": [
    "df['words_per_comment'].plot(kind=\"hist\", title=\"Number of words per post\");\n",
    "plt.show()"
   ]
  },
  {
   "cell_type": "code",
   "execution_count": 30,
   "metadata": {
    "collapsed": false
   },
   "outputs": [
    {
     "data": {
      "image/png": "[encoded data removed]",
      "text/plain": [
       "<Figure size 432x288 with 1 Axes>"
      ]
     },
     "metadata": {},
     "output_type": "display_data"
    }
   ],
   "source": [
    "#Personality Types\n",
    "types = df.groupby(\"type\").count()\n",
    "types.sort_values(\"posts\", ascending=False, inplace=True)\n",
    "types[\"posts\"].plot(kind=\"bar\", title=\"Number of Users per Personality type\");\n",
    "plt.show()"
   ]
  },
  {
   "cell_type": "code",
   "execution_count": 8,
   "metadata": {
    "collapsed": true
   },
   "outputs": [],
   "source": [
    "# function to tokenize and clean sentence [\"Hello world.\"] into list of words [\"hello\",\"world\"]\n",
    "def clean_tokenize(sentence):\n",
    "    ignore_words = ['a']\n",
    "    words = re.sub(\"[^\\w]\", \" \",  sentence).split() #nltk.word_tokenize(sentence)\n",
    "    words_cleaned = [w.lower() for w in words if w not in ignore_words]\n",
    "    return words_cleaned"
   ]
  },
  {
   "cell_type": "code",
   "execution_count": 9,
   "metadata": {
    "collapsed": false
   },
   "outputs": [
    {
     "name": "stdout",
     "output_type": "stream",
     "text": [
      "(422845, 3)\n"
     ]
    },
    {
     "data": {
      "text/html": [
       "<div>\n",
       "<style scoped>\n",
       "    .dataframe tbody tr th:only-of-type {\n",
       "        vertical-align: middle;\n",
       "    }\n",
       "\n",
       "    .dataframe tbody tr th {\n",
       "        vertical-align: top;\n",
       "    }\n",
       "\n",
       "    .dataframe thead th {\n",
       "        text-align: right;\n",
       "    }\n",
       "</style>\n",
       "<table border=\"1\" class=\"dataframe\">\n",
       "  <thead>\n",
       "    <tr style=\"text-align: right;\">\n",
       "      <th></th>\n",
       "      <th>post</th>\n",
       "      <th>type</th>\n",
       "      <th>user</th>\n",
       "    </tr>\n",
       "  </thead>\n",
       "  <tbody>\n",
       "    <tr>\n",
       "      <th>0</th>\n",
       "      <td>[so, my, love, language, is, words, of, affirm...</td>\n",
       "      <td>ENFP</td>\n",
       "      <td>2469</td>\n",
       "    </tr>\n",
       "    <tr>\n",
       "      <th>1</th>\n",
       "      <td>[thank, you, nothing, i, ve, done, thus, far, ...</td>\n",
       "      <td>ENFP</td>\n",
       "      <td>2469</td>\n",
       "    </tr>\n",
       "    <tr>\n",
       "      <th>2</th>\n",
       "      <td>[also, in, reading, something, you, wrote, op,...</td>\n",
       "      <td>ENFP</td>\n",
       "      <td>2469</td>\n",
       "    </tr>\n",
       "    <tr>\n",
       "      <th>3</th>\n",
       "      <td>[haha, thank, you, yes, i, ve, went, over, my,...</td>\n",
       "      <td>ENFP</td>\n",
       "      <td>2469</td>\n",
       "    </tr>\n",
       "    <tr>\n",
       "      <th>4</th>\n",
       "      <td>[i, pushed, him, away, many, times, me, and, t...</td>\n",
       "      <td>ENFP</td>\n",
       "      <td>2469</td>\n",
       "    </tr>\n",
       "  </tbody>\n",
       "</table>\n",
       "</div>"
      ],
      "text/plain": [
       "                                                post  type  user\n",
       "0  [so, my, love, language, is, words, of, affirm...  ENFP  2469\n",
       "1  [thank, you, nothing, i, ve, done, thus, far, ...  ENFP  2469\n",
       "2  [also, in, reading, something, you, wrote, op,...  ENFP  2469\n",
       "3  [haha, thank, you, yes, i, ve, went, over, my,...  ENFP  2469\n",
       "4  [i, pushed, him, away, many, times, me, and, t...  ENFP  2469"
      ]
     },
     "execution_count": 9,
     "metadata": {},
     "output_type": "execute_result"
    }
   ],
   "source": [
    "# split posts per users into separate sentences\n",
    "post = []\n",
    "utype = []\n",
    "user = []\n",
    "\n",
    "for index, row in df.iterrows():\n",
    "    posts = row['posts'].split('|||')\n",
    "    posts_clean = []\n",
    "    for sentence in posts:\n",
    "        posts_clean.append(clean_tokenize(sentence))\n",
    "    post.extend(posts_clean)\n",
    "    utype.extend([row['type'] for i in range(len(posts))])\n",
    "    user.extend([index for i in range(len(posts))])\n",
    "    \n",
    "short_posts = pd.DataFrame({\"user\": user,\"type\": utype,\"post\": post})\n",
    "print(short_posts.shape)\n",
    "short_posts.head()"
   ]
  },
  {
   "cell_type": "code",
   "execution_count": 25,
   "metadata": {
    "collapsed": true
   },
   "outputs": [],
   "source": [
    "# Build a vocabulary:\n",
    "V = 30000\n",
    "vocab_mbti = vocabulary.Vocabulary((utils.canonicalize_word(w) for w in utils.flatten(short_posts['post'])), size=V)"
   ]
  },
  {
   "cell_type": "code",
   "execution_count": 28,
   "metadata": {
    "collapsed": false
   },
   "outputs": [
    {
     "data": {
      "text/plain": [
       "array([   0,   15,  604,    0,   21, 1153,    0, 1917,  604,  103,  467,\n",
       "          0, 1917,  180,  585, 1445,  700,  180, 1445,  467,    0,    3,\n",
       "         15,    0, 1689,  604, 1572,   92,   15,    0,  604,  547,    0,\n",
       "        180,  547,  547,    3, 1572,   21,  180,   14,    3,  604,  585,\n",
       "          0,    3,    0, 1917,    3, 1645,  467,    0,   14,  180, 1917,\n",
       "       1645,    3,  585, 1445,    0, 1917,  604,   14,    0,   14,  467,\n",
       "        917,   14,    3,  585, 1445,    0,    3,  585,    0,  261,  467,\n",
       "       1572,   15,  604,  585,    0,   14,  180, 1917, 1645,    3,  585,\n",
       "       1445,    0,  604,  585,    0,   14, 2679,  467,    0,  261, 2679,\n",
       "        604,  585,  467,    0,  467,   14,  926,    0,   15,  261,  467,\n",
       "        585,   92,    3,  585, 1445,    0,   14,    3,   21,  467,    0,\n",
       "          3,   15,    0,  926,  604,  604, 1917,    0,   14,  604,  604,\n",
       "          0,  850,  700,   14,    0,   14, 2679,  467,    0,  850,  467,\n",
       "         15,   14,    0, 1689,  180, 1153,    0,  547,  604, 1572,    0,\n",
       "         15,  604,   21,  467,  604,  585,  467,    0,   14,  604,    0,\n",
       "         15, 2679,  604, 1689,    0,   21,  467,    0,   14, 2679,  180,\n",
       "         14,    0,   14, 2679,  467, 1153,    0,  926,  180, 1572,  467,\n",
       "          0,    3,   15,    0], dtype=int32)"
      ]
     },
     "execution_count": 28,
     "metadata": {},
     "output_type": "execute_result"
    }
   ],
   "source": [
    "# Canonicalize sentences and create input data\n",
    "input_mbti = []\n",
    "for i, row in short_posts.iterrows():\n",
    "    input_mbti.append(utils.preprocess_sentences(row['post'], vocab=vocab_mbti))\n",
    "input_mbti[0]"
   ]
  },
  {
   "cell_type": "code",
   "execution_count": 20,
   "metadata": {
    "collapsed": false
   },
   "outputs": [
    {
     "data": {
      "text/plain": [
       "array(['ENFP', 'ENFP', 'ENFP', 'ENFP', 'ENFP'], dtype=object)"
      ]
     },
     "execution_count": 20,
     "metadata": {},
     "output_type": "execute_result"
    }
   ],
   "source": [
    "# Create true label data\n",
    "y_label_mbti16 = np.array(short_posts[\"type\"])\n",
    "y_label_mbti16[0:5]"
   ]
  },
  {
   "cell_type": "code",
   "execution_count": 2,
   "metadata": {
    "collapsed": true
   },
   "outputs": [],
   "source": [
    "from __future__ import absolute_import\n",
    "from __future__ import print_function\n",
    "from __future__ import division\n",
    "\n",
    "import json, os, re, shutil, sys, time\n",
    "from importlib import reload\n",
    "import collections, itertools\n",
    "\n",
    "# NumPy and TensorFlow\n",
    "import numpy as np\n",
    "import pandas as pd\n",
    "import tensorflow as tf\n",
    "assert(tf.__version__.startswith(\"1.\"))\n",
    "\n",
    "# Utils and Helper libraries\n",
    "# import nltk\n",
    "from w266_common import utils, vocabulary\n",
    "from sklearn.preprocessing import OneHotEncoder\n",
    "from sklearn.model_selection import train_test_split\n",
    "\n",
    "import MBTI2x4_LSTM_model as model\n",
    "import MBTI_data_setup as ds"
   ]
  },
  {
   "cell_type": "code",
   "execution_count": 3,
   "metadata": {
    "collapsed": false
   },
   "outputs": [
    {
     "name": "stdout",
     "output_type": "stream",
     "text": [
      "(422845, 3)\n"
     ]
    }
   ],
   "source": [
    "#load data\n",
    "df = pd.read_csv('./mbti_1.csv')\n",
    "df.head(5)\n",
    "\n",
    "reload(ds)\n",
    "post, mbti_type, user = ds.splitPosts(df)\n",
    "\n",
    "# Split data: 80% train, 20% test\n",
    "post_train, post_test, label_train, label_test = train_test_split(post, mbti_type, test_size=0, random_state=8)"
   ]
  },
  {
   "cell_type": "code",
   "execution_count": 4,
   "metadata": {
    "collapsed": false
   },
   "outputs": [
    {
     "data": {
      "text/plain": [
       "array(['intj - taoist, it applies logically to all, scientific or not.',\n",
       "       \"physical looks aside, i am proud to say i've never worn sweatpants or gym shorts outside of workouts or my home.\",\n",
       "       'worst seaseme street meme  the medical terminology twins: hurt and hernie.  least likely myth that mythbusters will feature on their show',\n",
       "       'istp or estj  tmlt believe in multiple messiahs.',\n",
       "       \"http://www.youtube.com/watch?v=rppiq5lseou  http://www.youtube.com/watch?v=sfpuk98pji0  http://www.youtube.com/watch?v=gwdiveh9dww  http://www.youtube.com/watch?v=gsdwosh9dle  okay i admit...'\",\n",
       "       'because i consider myself to be a part of the whole body of humanity, i could not just choose being a great person, because it would be like someone pointing to a detached eye and saying, look...',\n",
       "       \"i think it's something you work towards.   if you ask others, they'll say i'm confident, but i don't always feel that way.   after a long time of pretending to be confident, it becomes true all...\",\n",
       "       'https://www.youtube.com/watch?v=2hy0bfctzba  first album in 22 years. the whole album is really great.',\n",
       "       'yeah, i have felt that, specially when i finished to dance and the people were, you know, talking and not paying you attention, and as a street magician too, when i physical reaction, when i finish a...',\n",
       "       'i often really wish there was an opt out option for society. working is necessary, however. as individuals we have to throw something into the community pile. we have to contribute in order to...',\n",
       "       \"because most of what i say is just utter shite so it's really not worth reading. i try to filter but i'm not effective.\",\n",
       "       \"honestly, xyra, i think you are being a little mean. 'if you are planning on actually trying'… i feel as though you didn't actually read my post. i did try - i told him that i had been shy initially...\",\n",
       "       'i have brown skin so i dont like wearing foundation, it makes me look so unnaturally white and having oily skin it just makes my face look shiny, so yeh brown oily skin with fouundation looks like...',\n",
       "       'a surveyor.',\n",
       "       \"asking does seem like the wisest decision, yes. i'm just damnably awkward around basically everyone, but i suppose i have to get over that.[/quote]  yeah i can't help with awkward, not sure that...\",\n",
       "       \"fair  and i don't expect someone to stick around forever if i can not fulfill their needs. but from my view it should be a compromise. and anyone who can declare enough affections to want to...\",\n",
       "       \"i don't know why, but he strikes me as intj.\",\n",
       "       \"i've actually disabled ads earlier today because it's been a problem recently. my computer is pretty powerful (i7 7700) but lately it's been rather often that ads keep loading constantly (tab keeps...\",\n",
       "       \"liquidcool,  i was just aiming a question at older and wiser isfjs (technically, they don't have to be older...) who have come to a place where they are just fine (in other words, self-sufficient)...\",\n",
       "       \"i just spent some time doing this: test your v.i. skills  so far i've nailed all personalities at the first try ecxept the enfj:s! so cool! :d  like there's something special about them! and...\"], dtype=object)"
      ]
     },
     "execution_count": 4,
     "metadata": {},
     "output_type": "execute_result"
    }
   ],
   "source": [
    "post_train[:20]"
   ]
  },
  {
   "cell_type": "code",
   "execution_count": null,
   "metadata": {
    "collapsed": true
   },
   "outputs": [],
   "source": []
  }
 ],
 "metadata": {
  "kernelspec": {
   "display_name": "Python 3",
   "language": "python",
   "name": "python3"
  },
  "language_info": {
   "codemirror_mode": {
    "name": "ipython",
    "version": 3
   },
   "file_extension": ".py",
   "mimetype": "text/x-python",
   "name": "python",
   "nbconvert_exporter": "python",
   "pygments_lexer": "ipython3",
   "version": "3.6.5"
  }
 },
 "nbformat": 4,
 "nbformat_minor": 2
}
